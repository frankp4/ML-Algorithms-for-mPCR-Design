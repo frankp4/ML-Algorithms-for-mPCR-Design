{
 "cells": [
  {
   "cell_type": "code",
   "execution_count": 2,
   "metadata": {},
   "outputs": [],
   "source": [
    "import os\n",
    "import pandas as pd"
   ]
  },
  {
   "cell_type": "code",
   "execution_count": 3,
   "metadata": {},
   "outputs": [],
   "source": [
    "output_files = !ls ./amplicon_outputs/*.csv\n",
    "\n",
    "primer_files = !ls ./primer_inputs/*.csv"
   ]
  },
  {
   "cell_type": "code",
   "execution_count": 4,
   "metadata": {},
   "outputs": [],
   "source": [
    "primer_df = pd.DataFrame([])\n",
    "\n",
    "for primer_file in primer_files:\n",
    "  exp_name = os.path.splitext(os.path.basename(primer_file))[0].rstrip(\"_primer_stats\")\n",
    "  df = pd.read_csv(primer_file,\n",
    "                   usecols=['Primer_Name', 'Seq', 'Amplicon',\n",
    "                            'Primer_Length', 'Tm', 'Delta Tm',\n",
    "                            'GC_Content', 'Length_Longest_Homopolymer', 'Percent_Homopolymer'])\n",
    "  df['exp'] = exp_name\n",
    "  primer_df = primer_df.append(df)"
   ]
  },
  {
   "cell_type": "code",
   "execution_count": 5,
   "metadata": {},
   "outputs": [],
   "source": [
    "primer_df['flank'] = primer_df['Primer_Name'].apply(lambda x: x.split(\"_\")[-1])"
   ]
  },
  {
   "cell_type": "code",
   "execution_count": 6,
   "metadata": {},
   "outputs": [],
   "source": [
    "forward = primer_df[primer_df.flank == \"F\"]\n",
    "reverse = primer_df[primer_df.flank == \"R\"]"
   ]
  },
  {
   "cell_type": "code",
   "execution_count": 7,
   "metadata": {},
   "outputs": [],
   "source": [
    "primers = forward.merge(reverse, left_on=[\"Amplicon\", 'exp'], right_on=[\"Amplicon\", \"exp\"], suffixes=('_L', '_R'))\n"
   ]
  },
  {
   "cell_type": "code",
   "execution_count": 8,
   "metadata": {},
   "outputs": [],
   "source": [
    "output_df = pd.DataFrame([])\n",
    "\n",
    "for output_file in output_files:\n",
    "    df = pd.read_csv(output_file)\n",
    "    output_df = output_df.append(df)\n",
    "    \n",
    "output_df.head()\n",
    "output_df = output_df.rename(columns = {'amplicon_id' : 'Amplicon'})\n"
   ]
  },
  {
   "cell_type": "code",
   "execution_count": 9,
   "metadata": {},
   "outputs": [],
   "source": [
    "merged_df = primers.merge(output_df, left_on = 'Amplicon', right_on = 'Amplicon')\n",
    "merged_df = merged_df.sort_values('Amplicon')\n",
    "\n",
    "merged_df = merged_df[merged_df['strain'].isna()]\n",
    "\n",
    "#merged_df.to_csv(index = False)"
   ]
  }
 ],
 "metadata": {
  "kernelspec": {
   "display_name": "Python 3",
   "language": "python",
   "name": "python3"
  },
  "language_info": {
   "codemirror_mode": {
    "name": "ipython",
    "version": 3
   },
   "file_extension": ".py",
   "mimetype": "text/x-python",
   "name": "python",
   "nbconvert_exporter": "python",
   "pygments_lexer": "ipython3",
   "version": "3.7.6"
  }
 },
 "nbformat": 4,
 "nbformat_minor": 2
}
